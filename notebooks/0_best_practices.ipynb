{
 "cells": [
  {
   "cell_type": "markdown",
   "source": [
    "# Best Practices for Scientific Computing"
   ],
   "metadata": {
    "slideshow": {
     "slide_type": "slide"
    }
   }
  },
  {
   "cell_type": "markdown",
   "source": [
    "Summary of Best Practices, according to [[1]](http://dx.doi.org/10.1371/journal.pbio.1001745):\r\n",
    "\r\n",
    " 1. Write programs for people, not computers.\r\n",
    " 1. Let the computer do the work.\r\n",
    " 1. Make incremental changes.\r\n",
    " 1. Don't repeat yourself (or others).\r\n",
    " 1. Plan for mistakes.\r\n",
    " 1. Optimize software only after it works correctly.\r\n",
    " 1. Document design and purpose, not mechanics.\r\n",
    " 1. Collaborate."
   ],
   "metadata": {
    "slideshow": {
     "slide_type": "subslide"
    }
   }
  },
  {
   "cell_type": "markdown",
   "source": [
    "[1]: *Best Practices for Scientific Computing*\r\n",
    "\r\n",
    "Greg Wilson, D. A. Aruliah, C. Titus Brown, Neil P. Chue Hong, Matt Davis, Richard T. Guy, Steven H. D. Haddock, Kathryn D. Huff, Ian M. Mitchell, Mark D. Plumbley, Ben Waugh, Ethan P. White, Paul Wilson.\r\n",
    "\r\n",
    "PLOS, http://dx.doi.org/10.1371/journal.pbio.1001745"
   ],
   "metadata": {}
  },
  {
   "cell_type": "markdown",
   "source": [
    "# 1. Code Readability"
   ],
   "metadata": {
    "slideshow": {
     "slide_type": "slide"
    }
   }
  },
  {
   "cell_type": "markdown",
   "source": [
    "## The Zen of Python\r\n",
    "From [PEP 20](https://www.python.org/dev/peps/pep-0020/)\r\n",
    "\r\n",
    "- Beautiful is better than ugly.\r\n",
    "- Explicit is better than implicit.\r\n",
    "- Simple is better than complex.\r\n",
    "- Complex is better than complicated.\r\n",
    "- Flat is better than nested.\r\n",
    "- Sparse is better than dense.\r\n",
    "- **Readability counts.**\r\n",
    "- Special cases aren't special enough to break the rules.\r\n",
    "- Although practicality beats purity.\r\n",
    "- Errors should never pass silently.\r\n",
    "- Unless explicitly silenced.\r\n",
    "- In the face of ambiguity, refuse the temptation to guess.\r\n",
    "- There should be one-- and preferably only one --obvious way to do it.\r\n",
    "- Although that way may not be obvious at first unless you're Dutch.\r\n",
    "- Now is better than never.\r\n",
    "- Although never is often better than *right* now.\r\n",
    "- If the implementation is hard to explain, it's a bad idea.\r\n",
    "- If the implementation is easy to explain, it may be a good idea.\r\n",
    "- Namespaces are one honking great idea -- let's do more of those!"
   ],
   "metadata": {
    "slideshow": {
     "slide_type": "subslide"
    }
   }
  },
  {
   "cell_type": "markdown",
   "source": [
    "## Variable/function names\n",
    " \n",
    "Scientists often just translate their equations into code:\n",
    " \n",
    "Bad:\n",
    "```python\n",
    "p0 = 3.5\n",
    "p = p0 * np.cos(0.4 * x - 13.2 * t)\n",
    "```"
   ],
   "metadata": {
    "slideshow": {
     "slide_type": "subslide"
    }
   }
  },
  {
   "cell_type": "markdown",
   "source": [
    "Better:\n",
    "```python\n",
    "# Constants:\n",
    "base_pressure = 3.5  # Pa\n",
    "wave_length = 15.7   # m\n",
    "wave_number = 2 * np.pi / wave_length  # m-1\n",
    "angular_frequency = 13.2  # Hz\n",
    "\n",
    "# Calculate:\n",
    "pressure = base_pressure * np.cos(wave_number * x - angular_frequency * t)\n",
    "```"
   ],
   "metadata": {
    "slideshow": {
     "slide_type": "fragment"
    }
   }
  },
  {
   "cell_type": "markdown",
   "source": [
    "*If you have to sacrifice readability for performance reasons, make sure you add comments to explain the code.*"
   ],
   "metadata": {
    "slideshow": {
     "slide_type": "fragment"
    }
   }
  },
  {
   "cell_type": "markdown",
   "source": [
    "## Coding style.\n",
    "\n",
    "This will vary from project to project, but a recommendation for a \"default\" style exists for Python, the [PEP 8](https://www.python.org/dev/peps/pep-0008/) (PEP = Python Enchancement Proposal). Several editors have functionality to give you hints for improving your style."
   ],
   "metadata": {
    "slideshow": {
     "slide_type": "subslide"
    }
   }
  },
  {
   "cell_type": "markdown",
   "source": [
    "# 3. Use version control"
   ],
   "metadata": {
    "slideshow": {
     "slide_type": "slide"
    }
   }
  },
  {
   "cell_type": "markdown",
   "source": [
    "Avoid this:\n",
    "\n",
    "    mycode.py\n",
    "    mycode_v2.py\n",
    "    mycode_v2_conference.py\n",
    "    mycode_v3_BROKEN.py\n",
    "    mycode_v3_FIXED.py\n",
    "    mycode_v2+v3.py"
   ],
   "metadata": {
    "slideshow": {
     "slide_type": "-"
    }
   }
  },
  {
   "cell_type": "markdown",
   "source": [
    "Instead use a version control system (VCS). There exist many alternatives, but the most common is to use *git* in combination with [github](github.com)."
   ],
   "metadata": {}
  },
  {
   "cell_type": "markdown",
   "source": [
    "## What is version control?"
   ],
   "metadata": {
    "slideshow": {
     "slide_type": "subslide"
    }
   }
  },
  {
   "cell_type": "markdown",
   "source": [
    " - A system to store history of files/folders.\n",
    " - Typically when you want to store a new version of your files, you make a *commit*.\n",
    " - A folder under version control is normally called a *repository*."
   ],
   "metadata": {}
  },
  {
   "cell_type": "markdown",
   "source": [
    "## Why use version control?"
   ],
   "metadata": {
    "slideshow": {
     "slide_type": "subslide"
    }
   }
  },
  {
   "cell_type": "markdown",
   "source": [
    "* Backups: \n",
    "    * Manage changes of files such as scripts, source code, documents, etc\n",
    "    * Store copy of git repository on an external platform (e.g. github)\n",
    "* Organization:  \n",
    "    * Retrieve old versions of files.\n",
    "    * Print history of changes.\n",
    "* Collaboration:\n",
    "   * Useful for programming or writing in teams.\n",
    "   * Programmers work on *copies* of repository files and upload the changes to the official repository.\n",
    "   * Non-conflicting modifications by different team members are merged automatically.\n",
    "   * Conflicting modifications are detected and must be resolved manually."
   ],
   "metadata": {}
  },
  {
   "cell_type": "markdown",
   "source": [
    "## How does it work?"
   ],
   "metadata": {
    "slideshow": {
     "slide_type": "subslide"
    }
   }
  },
  {
   "cell_type": "markdown",
   "source": [
    " - A simple repository will normally be a linear series of commits.\n",
    " - However, changes can also branch off, and be merged together."
   ],
   "metadata": {}
  },
  {
   "cell_type": "markdown",
   "source": [
    "## Commit flow\n",
    "\n",
    "![Git commit flowchart](../reference/git-commits.svg)"
   ],
   "metadata": {
    "slideshow": {
     "slide_type": "subslide"
    }
   }
  },
  {
   "cell_type": "markdown",
   "source": [
    "## Branch flow\r\n",
    "\r\n",
    "![Git branch flowchart](../reference/git-branches.svg)"
   ],
   "metadata": {
    "slideshow": {
     "slide_type": "subslide"
    }
   }
  },
  {
   "cell_type": "markdown",
   "source": [
    "## Non-software use\r\n",
    "\r\n",
    "Version control can be used for more than just making software!"
   ],
   "metadata": {
    "slideshow": {
     "slide_type": "subslide"
    }
   }
  },
  {
   "cell_type": "code",
   "execution_count": 1,
   "source": [
    "from IPython.display import YouTubeVideo\r\n",
    "YouTubeVideo('kM9zcfRtOqo')\r\n",
    "help?"
   ],
   "outputs": [
    {
     "output_type": "execute_result",
     "data": {
      "text/plain": [
       "<IPython.lib.display.YouTubeVideo at 0x250331c9af0>"
      ],
      "image/jpeg": "[encoded data removed]",
      "text/html": [
       "\n",
       "        <iframe\n",
       "            width=\"400\"\n",
       "            height=\"300\"\n",
       "            src=\"https://www.youtube.com/embed/kM9zcfRtOqo\"\n",
       "            frameborder=\"0\"\n",
       "            allowfullscreen\n",
       "        ></iframe>\n",
       "        "
      ]
     },
     "metadata": {},
     "execution_count": 1
    }
   ],
   "metadata": {}
  },
  {
   "cell_type": "markdown",
   "source": [
    "## How do I use it?\r\n",
    "\r\n",
    "If you want to use git, the base program is terminal based, and to unlock the most powerful features of git you will have to use it in this way. However, if you are just starting out, it might be a good idea to start out with a graphical interface, at least until you get the hang of the git flow."
   ],
   "metadata": {
    "slideshow": {
     "slide_type": "subslide"
    }
   }
  },
  {
   "cell_type": "markdown",
   "source": [
    "Suggested graphical UIs:\r\n",
    " - Windows/Mac: [GitHub Desktop](https://desktop.github.com/)\r\n",
    " - Linux: [SmartGit](https://www.syntevo.com/smartgit/), [Git-cola](https://git-cola.github.io/) or [Gitg](https://wiki.gnome.org/Apps/Gitg/)"
   ],
   "metadata": {}
  },
  {
   "cell_type": "markdown",
   "source": [
    "# 5. Use tools to automate testing"
   ],
   "metadata": {
    "slideshow": {
     "slide_type": "slide"
    }
   }
  },
  {
   "cell_type": "markdown",
   "source": [
    "You will make mistakes when programming! Everyone does. The trick is in spotting the mistakes early and efficiently (after release/publication is normally undesirable)."
   ],
   "metadata": {
    "slideshow": {
     "slide_type": "fragment"
    }
   }
  },
  {
   "cell_type": "markdown",
   "source": [
    "Best tool available: Unit tests"
   ],
   "metadata": {}
  },
  {
   "cell_type": "markdown",
   "source": [
    "## How to write unit tests"
   ],
   "metadata": {
    "slideshow": {
     "slide_type": "subslide"
    }
   }
  },
  {
   "cell_type": "markdown",
   "source": [
    " 1. Identify a *unit* in your program that should have a well defined behavior given a certain input. A unit can be a:\n",
    "   - function\n",
    "   - module\n",
    "   - entire program\n",
    " 1. Write a test function that calls this input and checks that the output/behavior is as expected\n",
    " 1. The more the better! Preferably on several levels (function/module/program)."
   ],
   "metadata": {}
  },
  {
   "cell_type": "markdown",
   "source": [
    "## How to write unit tests in Python"
   ],
   "metadata": {
    "slideshow": {
     "slide_type": "subslide"
    }
   }
  },
  {
   "cell_type": "markdown",
   "source": [
    "Use a test framework like [py.test](http://docs.pytest.org/en/latest/) or [nose](https://nose.readthedocs.io/en/latest/). Several other frameworks exist as well."
   ],
   "metadata": {}
  },
  {
   "cell_type": "markdown",
   "source": [
    "```bash\n",
    "$ pip install pytest\n",
    "```"
   ],
   "metadata": {}
  },
  {
   "cell_type": "markdown",
   "source": [
    "Make a file `test_<unit or module name>.py`, preferably in a folder called `tests`."
   ],
   "metadata": {
    "slideshow": {
     "slide_type": "fragment"
    }
   }
  },
  {
   "cell_type": "markdown",
   "source": [
    "Import the code to be tested."
   ],
   "metadata": {
    "slideshow": {
     "slide_type": "fragment"
    }
   }
  },
  {
   "cell_type": "markdown",
   "source": [
    "Add a function `def test_<test name>():`, and have it check for the correct behavior given a certain input"
   ],
   "metadata": {
    "slideshow": {
     "slide_type": "fragment"
    }
   }
  },
  {
   "cell_type": "code",
   "execution_count": null,
   "source": [
    "%matplotlib inline\r\n",
    "import numpy as np\r\n",
    "import matplotlib.pyplot as plt\r\n",
    "\r\n",
    "from mandlebrot import mandelbrot\r\n",
    "\r\n",
    "x = np.linspace(-2.25, 0.75, 500)\r\n",
    "y = np.linspace(-1.25, 1.25, 500)\r\n",
    "output = mandelbrot(x, y, 200, False)\r\n",
    "\r\n",
    "plt.imshow(output)"
   ],
   "outputs": [],
   "metadata": {
    "slideshow": {
     "slide_type": "subslide"
    }
   }
  },
  {
   "cell_type": "code",
   "execution_count": null,
   "source": [
    "import numpy as np\r\n",
    "from mandlebrot import mandelbrot\r\n",
    "\r\n",
    "def test_mandelbrot_small():\r\n",
    "    x = np.linspace(-2.25, 0.75, 10)\r\n",
    "    y = np.linspace(-1.25, 1.25, 10)\r\n",
    "    output = mandelbrot(x, y, 100, False)\r\n",
    "    assert output.shape == (10, 10)\r\n",
    "\r\n",
    "def test_mandelbrot_zero_outside():\r\n",
    "    # The Mandelbrot set should be zero outside the \"active\" area\r\n",
    "    x = np.linspace(1.5, 2.0, 10)\r\n",
    "    y = np.linspace(1.5, 2.0, 10)\r\n",
    "    output = mandelbrot(x, y, 100, False)\r\n",
    "    assert np.all(output == 0.0)\r\n",
    "\r\n",
    "def test_mandelbrot_incorrect_test():\r\n",
    "    x = np.linspace(-1.5, -2.0, 10)\r\n",
    "    y = np.linspace(-1.25, 1.25, 10)\r\n",
    "    output = mandelbrot(x, y, 100, False)\r\n",
    "    assert np.all(output == 0.0)\r\n",
    "  "
   ],
   "outputs": [],
   "metadata": {
    "collapsed": true,
    "jupyter": {
     "outputs_hidden": true
    },
    "slideshow": {
     "slide_type": "subslide"
    }
   }
  },
  {
   "cell_type": "code",
   "execution_count": null,
   "source": [
    "test_mandelbrot_small()"
   ],
   "outputs": [],
   "metadata": {
    "collapsed": true,
    "jupyter": {
     "outputs_hidden": true
    },
    "slideshow": {
     "slide_type": "subslide"
    }
   }
  },
  {
   "cell_type": "code",
   "execution_count": null,
   "source": [
    "test_mandelbrot_zero_outside()"
   ],
   "outputs": [],
   "metadata": {
    "collapsed": true,
    "jupyter": {
     "outputs_hidden": true
    }
   }
  },
  {
   "cell_type": "code",
   "execution_count": null,
   "source": [
    "test_mandelbrot_incorrect_test()"
   ],
   "outputs": [],
   "metadata": {}
  },
  {
   "cell_type": "markdown",
   "source": [
    "## How to run tests"
   ],
   "metadata": {
    "slideshow": {
     "slide_type": "subslide"
    }
   }
  },
  {
   "cell_type": "markdown",
   "source": [
    "Call `py.test` or `nosetests` in the folder containing your project. The tools will look for anything that looks like a test (e.g. `test_*()` functions in `test_*.py` files) in your project."
   ],
   "metadata": {}
  },
  {
   "cell_type": "code",
   "execution_count": null,
   "source": [
    "!py.test"
   ],
   "outputs": [],
   "metadata": {}
  },
  {
   "cell_type": "markdown",
   "source": [
    "## Utilities to express expected behavior"
   ],
   "metadata": {
    "slideshow": {
     "slide_type": "subslide"
    }
   }
  },
  {
   "cell_type": "markdown",
   "source": [
    "While `assert` and comparisons operators like `==`, `>` etc. should be able to express most expected behaviors, there are a few utilities that can greatly simplify tests, a few of these include:"
   ],
   "metadata": {}
  },
  {
   "cell_type": "markdown",
   "source": [
    "### Numpy tests"
   ],
   "metadata": {
    "slideshow": {
     "slide_type": "-"
    }
   }
  },
  {
   "cell_type": "code",
   "execution_count": null,
   "source": [
    "small_noise = 1e-6 * np.random.rand(10, 10)\r\n",
    "np.testing.assert_almost_equal(small_noise, 0.0, decimal=5)  # OK\r\n",
    "np.testing.assert_almost_equal(small_noise, 0.0, decimal=7)  # Will likely fail"
   ],
   "outputs": [],
   "metadata": {}
  },
  {
   "cell_type": "markdown",
   "source": [
    "# Python modules"
   ],
   "metadata": {
    "slideshow": {
     "slide_type": "slide"
    }
   }
  },
  {
   "cell_type": "markdown",
   "source": [
    "## Local modules"
   ],
   "metadata": {
    "slideshow": {
     "slide_type": "subslide"
    }
   }
  },
  {
   "cell_type": "markdown",
   "source": [
    " - Previously, we have only written code to scripts or cells in Notebooks.\n",
    " - All python files can also be treated as modules, i.e. they can be imported in other Python files / Notebooks.\n",
    " - However, compared to scripts, modules typically only contain definitions (functions/classes/constants) meant to be imported somewhere else"
   ],
   "metadata": {}
  },
  {
   "cell_type": "markdown",
   "source": [
    "Given a file `mymodule.py` with a function `my_function()`:"
   ],
   "metadata": {
    "slideshow": {
     "slide_type": "subslide"
    }
   }
  },
  {
   "cell_type": "code",
   "execution_count": null,
   "source": [
    "%%writefile mymodule.py\n",
    "\n",
    "def my_function():\n",
    "    return \"Surprise!\"\n"
   ],
   "outputs": [],
   "metadata": {}
  },
  {
   "cell_type": "markdown",
   "source": [
    "The function can then be imported in another file or a Notebook:"
   ],
   "metadata": {}
  },
  {
   "cell_type": "code",
   "execution_count": null,
   "source": [
    "from mymodule import my_function\n",
    "\n",
    "my_function()"
   ],
   "outputs": [],
   "metadata": {}
  },
  {
   "cell_type": "markdown",
   "source": [
    "## Packages"
   ],
   "metadata": {
    "slideshow": {
     "slide_type": "subslide"
    }
   }
  },
  {
   "cell_type": "markdown",
   "source": [
    "Modules and scripts can be organized into packages. These can then easily be distributed and imported by name. A set of built-in packages are included in Python, like:\n",
    "* **sys** System specific functionality\n",
    "* **os** Operating system specific functionality"
   ],
   "metadata": {}
  },
  {
   "cell_type": "markdown",
   "source": [
    "Other packages can be downloaded and installed, e.g.\n",
    "* **scipy** Scientific Python (www.scipy.org)\n",
    "    * **numpy** Numerical Python\n",
    "    * **ipython** Interactive Python\n",
    "    * **matplotlib** Plotting\n",
    "    * **pandas** Data analsyis\n",
    "\n",
    "*Several useful packages are included in Python distributions like Anaconda*"
   ],
   "metadata": {}
  },
  {
   "cell_type": "markdown",
   "source": [
    "## The Python Package Index (PyPI) collects a large number of modules\n",
    "\n",
    "Official webpage https://pypi.python.org/pypi\n",
    "\n",
    "Search the Python index with\n",
    "```bash\n",
    "pip search KEYWORD \n",
    "```\n",
    "Install any new package with\n",
    "```bash\n",
    "pip install PACKAGENAME --user\n",
    "````"
   ],
   "metadata": {
    "slideshow": {
     "slide_type": "subslide"
    }
   }
  },
  {
   "cell_type": "markdown",
   "source": [
    "# Final points"
   ],
   "metadata": {
    "slideshow": {
     "slide_type": "slide"
    }
   }
  },
  {
   "cell_type": "markdown",
   "source": [
    " - Before publishing/release: Get your code to run on another computer! Preferably on another platform.\n",
    " - When unit tests and version control is combined you can have tests be run automatically each time changes are pushed to the repository. This is called *continuous integration*."
   ],
   "metadata": {}
  },
  {
   "cell_type": "markdown",
   "source": [
    "# Challenges"
   ],
   "metadata": {
    "slideshow": {
     "slide_type": "slide"
    }
   }
  },
  {
   "cell_type": "markdown",
   "source": [
    " - Take your code from the previous heat equation diffusion task and make it into a module.\n",
    "   - Put the reference implementation in one submodule, and the plotting code in a script that can be called.\n",
    " - Add it to a git repository.\n",
    " - Add unit tests that checks that the diffusion algorthim behaves as expected. Commit it to the repository.\n",
    " - Replace the Python code with the vectorized version, and commit that to the repository. Check that the vectorized version passes the test!\n",
    " - [Bonus] Turn your module into a package, and expose the callable script as a console entry point."
   ],
   "metadata": {}
  },
  {
   "cell_type": "code",
   "execution_count": null,
   "source": [],
   "outputs": [],
   "metadata": {}
  }
 ],
 "metadata": {
  "kernelspec": {
   "name": "python3",
   "display_name": "Python 3.8.8 64-bit ('base': conda)"
  },
  "language_info": {
   "codemirror_mode": {
    "name": "ipython",
    "version": 3
   },
   "file_extension": ".py",
   "mimetype": "text/x-python",
   "name": "python",
   "nbconvert_exporter": "python",
   "pygments_lexer": "ipython3",
   "version": "3.8.8"
  },
  "widgets": {
   "application/vnd.jupyter.widget-state+json": {
    "state": {},
    "version_major": 2,
    "version_minor": 0
   }
  },
  "interpreter": {
   "hash": "9359f96dcc8e6dbb808894a2b8636b1a27bb05921e7737a9fa6a11f3018a2953"
  }
 },
 "nbformat": 4,
 "nbformat_minor": 4
}